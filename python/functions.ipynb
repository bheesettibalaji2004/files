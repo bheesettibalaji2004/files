{
 "cells": [
  {
   "cell_type": "markdown",
   "metadata": {},
   "source": [
    "# functions\n",
    "- by default function gives *None* as output.\n",
    "- **positional arguments** : sample(\"balaji\", 21) #The arguments must be passed in the same order as the parameters are defined in the function.\n",
    "- **keyword arguments** : while calling function sample(user_input=name) # here user_input is keyword argument (Specify the parameter name explicitly in the function call.)\n",
    "- **default arguments** : while creating function use your value in paraments , when there is no argument passed when calling function then the default value will be used,<br>\n",
    " otherwise it will take given value.default arguments should be at end while creating function.\n",
    "- ***args** (variable-length positional arguments) are used when you don't know how many arguments should pass it return tuple. when no arguments are passed then () is printed.\n",
    "- ****kwargs** (variable-length keyword arguments) is used to print dict(key value pairs)\n",
    "- global variable and local variable: to use a global variable inside a function use *global* keyword before variable"
   ]
  },
  {
   "cell_type": "code",
   "execution_count": 124,
   "metadata": {},
   "outputs": [
    {
     "name": "stdout",
     "output_type": "stream",
     "text": [
      "None\n"
     ]
    }
   ],
   "source": [
    "def sample():\n",
    "    pass\n",
    "print(sample())"
   ]
  },
  {
   "cell_type": "code",
   "execution_count": 140,
   "metadata": {},
   "outputs": [
    {
     "name": "stdout",
     "output_type": "stream",
     "text": [
      "you are balaji with age of 21\n",
      "you are 21 with age of balaji\n",
      "---------------------\n",
      "you are balaji with age of 21\n",
      "-----------------\n",
      "balaji, your age is 18\n",
      "balaji, your age is 21\n"
     ]
    }
   ],
   "source": [
    "#positonal argument\n",
    "def sample(name,age):\n",
    "    print(f\"you are {name} with age of {age}\")\n",
    "sample(\"balaji\",21)\n",
    "sample(21,\"balaji\")\n",
    "\n",
    "print(\"---------------------\")\n",
    "\n",
    "#keyword argument\n",
    "def sample(name,age):\n",
    "    print(f\"you are {name} with age of {age}\")\n",
    "sample(age = 21,name = \"balaji\")\n",
    "\n",
    "print(\"-----------------\")\n",
    "\n",
    "#default argument\n",
    "def sample(name , age = 18):\n",
    "    print(f\"{name}, your age is {age}\")\n",
    "sample(\"balaji\")\n",
    "sample(\"balaji\",21)"
   ]
  },
  {
   "cell_type": "code",
   "execution_count": 126,
   "metadata": {},
   "outputs": [
    {
     "name": "stdout",
     "output_type": "stream",
     "text": [
      "a: 1\n",
      "b: 20\n",
      "c: 30\n",
      "args: (40, 50)\n",
      "kwargs: {'name': 'Alice', 'age': 30}\n"
     ]
    }
   ],
   "source": [
    "#combination of all arguments\n",
    "def sample(a, b, c=10, *args, **kwargs):\n",
    "    print(\"a:\", a)\n",
    "    print(\"b:\", b)\n",
    "    print(\"c:\", c)\n",
    "    print(\"args:\", args)\n",
    "    print(\"kwargs:\", kwargs)\n",
    "\n",
    "sample(1, 20, 30, 40, 50, name=\"Alice\", age=30)"
   ]
  },
  {
   "cell_type": "code",
   "execution_count": 137,
   "metadata": {},
   "outputs": [
    {
     "name": "stdout",
     "output_type": "stream",
     "text": [
      "hari\n"
     ]
    }
   ],
   "source": [
    "#global variable as local variable\n",
    "#when you dont call the function then the variable name is same\n",
    "name = \"balaji\"\n",
    "def sample():\n",
    "    global name\n",
    "    name = \"hari\"\n",
    "sample()\n",
    "print(name)\n"
   ]
  },
  {
   "cell_type": "code",
   "execution_count": 127,
   "metadata": {},
   "outputs": [
    {
     "name": "stdout",
     "output_type": "stream",
     "text": [
      "6\n",
      "-----------\n",
      "1 2 (3,)\n",
      "1 2 (3,)\n",
      "1 2 (3, 4)\n"
     ]
    }
   ],
   "source": [
    "def sample(*a):\n",
    "    total = 0\n",
    "    for i in a:\n",
    "        total = total +i\n",
    "    print(total)\n",
    "sample(1,2,3)\n",
    "\n",
    "print(\"-----------\")\n",
    "\n",
    "def my_function(a, b, *args):\n",
    "    print(a, b, args)\n",
    "my_function(1,2,3)\n",
    "my_function(1,2,3)\n",
    "my_function(1,2,3,4)\n"
   ]
  },
  {
   "cell_type": "code",
   "execution_count": 128,
   "metadata": {},
   "outputs": [
    {
     "name": "stdout",
     "output_type": "stream",
     "text": [
      "{'name': 'balaji'}\n"
     ]
    }
   ],
   "source": [
    "def sample(**a):\n",
    "    print(a)\n",
    "sample(name=\"balaji\")"
   ]
  },
  {
   "cell_type": "code",
   "execution_count": 129,
   "metadata": {},
   "outputs": [],
   "source": [
    "# def sample(name,age,country):\n",
    "#     print(\"hello\",name)\n",
    "#     print(\"your age is\",age)\n",
    "#     print(\"you are from\",country)\n",
    "\n",
    "# for i in range(1):\n",
    "#     name = input(\"enter your name :\")\n",
    "#     age = int(input(\"enter your age :\"))\n",
    "#     country = input(\"enter your country name :\")\n",
    "#     sample(name,age,country)"
   ]
  },
  {
   "cell_type": "code",
   "execution_count": 130,
   "metadata": {},
   "outputs": [],
   "source": [
    "# def total_points(game_score):\n",
    "#     points = 0\n",
    "#     while game_score !=0:\n",
    "#         if game_score >=5 and game_score<=10:\n",
    "#             points += 1\n",
    "#         if game_score >10 and game_score<=20:\n",
    "#             points += 2\n",
    "#             game_score = int(input(\"enter game score :\"))\n",
    "#     return points\n",
    "# score = int(input(\"enter your score: \"))\n",
    "# a = total_points(game_score=score)\n",
    "# print(a)"
   ]
  },
  {
   "cell_type": "code",
   "execution_count": 131,
   "metadata": {},
   "outputs": [],
   "source": [
    "# def sample(score):\n",
    "#     if score <=50:\n",
    "#         print(\"below passing,Improve your grade\")\n",
    "#     elif 50 < score <=70:\n",
    "#         print(\"barely passing the class!\")\n",
    "#     elif 70 < score <=90:\n",
    "#         print(\"you have a passing grade\")\n",
    "#     else:\n",
    "#         print(\"you are one of the best in class\")\n",
    "\n",
    "# user = int(input(\"enter your score\"))\n",
    "# sample(score = user)              "
   ]
  },
  {
   "cell_type": "code",
   "execution_count": 132,
   "metadata": {},
   "outputs": [],
   "source": [
    "# def sample(base_fare):\n",
    "#     print(\"do you want to upgrade :\")\n",
    "#     upgrade = input(\"enter yes or no :\").lower()\n",
    "#     while True :\n",
    "#         if upgrade == \"yes\":\n",
    "#             base_fare += 99\n",
    "#             break\n",
    "#         elif upgrade == \"no\":\n",
    "#             break\n",
    "#         else :\n",
    "#             print(\"invalid user input\")\n",
    "#             upgrade = input(\"enter yes or no :\").lower()\n",
    "#     luggage = input(\"do you have baggage\").lower()\n",
    "#     while True :\n",
    "#         if luggage == \"yes\":\n",
    "#             base_fare += 35\n",
    "#             break\n",
    "#         elif luggage == \"no\":\n",
    "#             break\n",
    "#         else :\n",
    "#             print(\"invalid user input\")\n",
    "#             luggage = input(\"enter yes or no :\").lower()\n",
    "#     tax = (base_fare * 0.08) + base_fare\n",
    "#     print(tax)\n",
    "\n",
    "# a = int(input(\"enter your fare\"))\n",
    "# sample(base_fare=a)\n",
    "\n",
    "   \n",
    "    "
   ]
  }
 ],
 "metadata": {
  "kernelspec": {
   "display_name": "Python 3",
   "language": "python",
   "name": "python3"
  },
  "language_info": {
   "codemirror_mode": {
    "name": "ipython",
    "version": 3
   },
   "file_extension": ".py",
   "mimetype": "text/x-python",
   "name": "python",
   "nbconvert_exporter": "python",
   "pygments_lexer": "ipython3",
   "version": "3.13.1"
  }
 },
 "nbformat": 4,
 "nbformat_minor": 2
}
