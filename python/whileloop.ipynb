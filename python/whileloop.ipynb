{
 "cells": [
  {
   "cell_type": "code",
   "execution_count": null,
   "metadata": {},
   "outputs": [],
   "source": [
    "password = input(\"enter your password :\")\n",
    "while password != \"Balaji@2124\":\n",
    "    print(\"wrong password enter again!\")\n",
    "    password = input(\"try again :\")\n",
    "print(\"welcome balaji\")"
   ]
  },
  {
   "cell_type": "code",
   "execution_count": null,
   "metadata": {},
   "outputs": [],
   "source": [
    "num = int(input(\"enter a num between o and end :\"))\n",
    "total = 0\n",
    "while num != 0:\n",
    "    total = total +num\n",
    "    num = int(input(\"enter another number :\"))\n",
    "print(\"total count =\",total)\n",
    "total = total * 0.8\n",
    "print(\"total discount :\",total)"
   ]
  },
  {
   "cell_type": "code",
   "execution_count": 4,
   "metadata": {},
   "outputs": [
    {
     "name": "stdout",
     "output_type": "stream",
     "text": [
      "guess again\n",
      "you guessed correct number in 1 attempts\n"
     ]
    }
   ],
   "source": [
    "num = int(input(\"enter a number between 1 to 10\"))\n",
    "tries = 0\n",
    "while num != 2:\n",
    "    if num <= 0:\n",
    "        tries +=1\n",
    "        print(\"number must be greater than 0\")\n",
    "        num = int(input(\"enter a number greater than 0 :\"))\n",
    "    elif num >=11:\n",
    "        tries +=1\n",
    "        print(\"number must be less than 10\")\n",
    "        num = int(input(\"enter a number less than 10 :\"))\n",
    "    else:\n",
    "        tries +=1\n",
    "        print(\"guess again\")\n",
    "        num = int(input(\"enter new number :\"))\n",
    "print(f\"you guessed correct number in {tries} attempts\")"
   ]
  },
  {
   "cell_type": "code",
   "execution_count": 5,
   "metadata": {},
   "outputs": [
    {
     "name": "stdout",
     "output_type": "stream",
     "text": [
      "5 x 1 = 5\n",
      "5 x 2 = 10\n",
      "5 x 3 = 15\n",
      "5 x 4 = 20\n",
      "5 x 5 = 25\n",
      "5 x 6 = 30\n",
      "5 x 7 = 35\n",
      "5 x 8 = 40\n",
      "5 x 9 = 45\n",
      "5 x 10 = 50\n"
     ]
    }
   ],
   "source": [
    "\"\"\"Write a Python program that prints the multiplication table for a number that the user inputs. The table should display the products from 1 to 10.\n",
    "For example, if the user inputs 7, the output should be:\n",
    "7 x 1 = 7\n",
    ":\n",
    ":\n",
    "7 x 10 = 70\n",
    "Requirements:\n",
    "Use a loop to generate the table.\n",
    "Prompt the user for the number, then print the multiplication results.\"\"\"\n",
    "\n",
    "number = int(input(\"enter a number to get it table\"))\n",
    "a = 1\n",
    "while a < 11 :\n",
    "    print(number,\"x\",a,\"=\",(number * a))\n",
    "    a+=1\n",
    "if number == 1:\n",
    "    print(\"this is your\",number,\"st table \")\n",
    "elif number ==2:\n",
    "    print(\"this is your\",number,\"nd table \")\n",
    "elif number == 3:\n",
    "    print(\"this is your\",number,\"rd table \")\n",
    "else:\n",
    "    print(\"this is your\",number,\"th table \")"
   ]
  },
  {
   "cell_type": "code",
   "execution_count": 6,
   "metadata": {},
   "outputs": [
    {
     "name": "stdout",
     "output_type": "stream",
     "text": [
      "10 ... Get ready!\n",
      "9 ... Get ready!\n",
      "8 ... Get ready!\n",
      "7 ... Get ready!\n",
      "6 ... Get ready!\n",
      "5 ... Get ready!\n",
      "4 ... Get ready!\n",
      "3 ... Get ready!\n",
      "2 ... Get ready!\n",
      "1 ... Get ready!\n",
      "0 ...Time's up!\n"
     ]
    }
   ],
   "source": [
    "\"\"\"Challenge: Count Down Timer\n",
    "Write a Python program that takes a number as input and counts down from that number to 0, printing each number along with a message.\n",
    "For example, if the user inputs 5, the output should look like:\n",
    "5... Get ready!\n",
    "4... Get ready!\n",
    "3... Get ready!\n",
    "2... Get ready!\n",
    "1... Get ready!\n",
    "0... Time's up!\n",
    "Requirements:\n",
    "Use a loop to count down from the number to 0.\n",
    "Print a message along with each number.\n",
    "At the end, print <Time's up!>\"\"\"\n",
    "\n",
    "number = int(input(\"enetr a number to start countdown\"))\n",
    "while number != 0:\n",
    "    if number > 0:\n",
    "        print(number,\"... Get ready!\")\n",
    "        number -=1\n",
    "    else:\n",
    "        number = int(input(\"number must be p0sitive : \"))\n",
    "print(\"0 ...Time's up!\")"
   ]
  },
  {
   "cell_type": "code",
   "execution_count": null,
   "metadata": {},
   "outputs": [],
   "source": [
    "\"\"\"Challenge: Even and Odd Counter\n",
    "Write a Python program that:\n",
    "Takes a list of numbers from the user (you can hardcode a sample list if you prefer).\n",
    "Counts how many of the numbers are even and how many are odd.\n",
    "Prints the count of even and odd numbers.\n",
    "For example, for the list [1, 2, 3, 4, 5, 6], the output should be:\n",
    "Even numbers: 3\n",
    "Odd numbers: 3\n",
    "Requirements:\n",
    "Use a loop to iterate over the list.\n",
    "Use modulo operation (%) to check if a number is even or odd.\"\"\"\n",
    "\n",
    "even = 0\n",
    "odd = 0\n",
    "while True:\n",
    "    a = int(input(\"enter a number,0 to infinity\"))\n",
    "    if a == 0:\n",
    "        break\n",
    "    if a % 2 == 0:\n",
    "        even += 1\n",
    "    if a % 2 != 0:\n",
    "        odd += 1\n",
    "    if a < 0 :\n",
    "        continue\n",
    "print(\"even numbers count =\",even)\n",
    "print(\"odd numbers count =\",odd)"
   ]
  }
 ],
 "metadata": {
  "kernelspec": {
   "display_name": "Python 3",
   "language": "python",
   "name": "python3"
  },
  "language_info": {
   "codemirror_mode": {
    "name": "ipython",
    "version": 3
   },
   "file_extension": ".py",
   "mimetype": "text/x-python",
   "name": "python",
   "nbconvert_exporter": "python",
   "pygments_lexer": "ipython3",
   "version": "3.13.1"
  }
 },
 "nbformat": 4,
 "nbformat_minor": 2
}
