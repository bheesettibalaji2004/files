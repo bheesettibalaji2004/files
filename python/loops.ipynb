{
 "cells": [
  {
   "cell_type": "code",
   "execution_count": 7,
   "metadata": {},
   "outputs": [
    {
     "name": "stdout",
     "output_type": "stream",
     "text": [
      "hi\n"
     ]
    }
   ],
   "source": [
    "num = input(\"enter a number\")\n",
    "valid = \"1234567890\"\n",
    "for i in num:\n",
    "    if i not in valid:\n",
    "        print(\"wrong number\")\n",
    "    else:\n",
    "        print(\"hi\")"
   ]
  },
  {
   "cell_type": "code",
   "execution_count": 9,
   "metadata": {},
   "outputs": [
    {
     "name": "stdout",
     "output_type": "stream",
     "text": [
      "hello hi\n",
      "hello hello\n"
     ]
    }
   ],
   "source": [
    "i = [\"hi\" , \"hello\"]\n",
    "for a in i:\n",
    "    print(f\"hello {a}\")"
   ]
  },
  {
   "cell_type": "code",
   "execution_count": 12,
   "metadata": {},
   "outputs": [
    {
     "name": "stdout",
     "output_type": "stream",
     "text": [
      "welcome\n",
      "sample\n"
     ]
    }
   ],
   "source": [
    "name = input(\"enter name\")\n",
    "while name != \"stop\":\n",
    "    print(\"welcome\")\n",
    "    print(\"sample\")\n",
    "    name = input(\"enter name\")"
   ]
  }
 ],
 "metadata": {
  "kernelspec": {
   "display_name": "Python 3",
   "language": "python",
   "name": "python3"
  },
  "language_info": {
   "codemirror_mode": {
    "name": "ipython",
    "version": 3
   },
   "file_extension": ".py",
   "mimetype": "text/x-python",
   "name": "python",
   "nbconvert_exporter": "python",
   "pygments_lexer": "ipython3",
   "version": "3.13.0"
  }
 },
 "nbformat": 4,
 "nbformat_minor": 2
}
