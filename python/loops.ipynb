{
 "cells": [
  {
   "cell_type": "code",
   "execution_count": null,
   "metadata": {},
   "outputs": [],
   "source": [
    "num = input(\"enter a number\")\n",
    "valid = \"1234567890\"\n",
    "for i in num:\n",
    "    if i not in valid:\n",
    "        print(\"wrong number\")\n",
    "    else:\n",
    "        print(\"hi\")"
   ]
  },
  {
   "cell_type": "code",
   "execution_count": null,
   "metadata": {},
   "outputs": [],
   "source": [
    "i = [\"hi\" , \"hello\"]\n",
    "for a in i:\n",
    "    print(f\"hello {a}\")"
   ]
  },
  {
   "cell_type": "code",
   "execution_count": null,
   "metadata": {},
   "outputs": [],
   "source": [
    "name = input(\"enter name\")\n",
    "while name != \"stop\":\n",
    "    print(\"welcome\",name)\n",
    "    # print(\"enter stop to end\")\n",
    "    name = input(\"enter name\")"
   ]
  },
  {
   "cell_type": "code",
   "execution_count": 32,
   "metadata": {},
   "outputs": [
    {
     "name": "stdout",
     "output_type": "stream",
     "text": [
      "you guessed in 0\n"
     ]
    }
   ],
   "source": [
    "value = int(input(\"enter a number :\"))\n",
    "attempt = 0\n",
    "while value != 20:\n",
    "    attempt += 1\n",
    "    print(\"try again\")\n",
    "    value = int(input(\"enter a number :\"))\n",
    "print(f\"you guessed in {attempt} attempts\")"
   ]
  }
 ],
 "metadata": {
  "kernelspec": {
   "display_name": "Python 3",
   "language": "python",
   "name": "python3"
  },
  "language_info": {
   "codemirror_mode": {
    "name": "ipython",
    "version": 3
   },
   "file_extension": ".py",
   "mimetype": "text/x-python",
   "name": "python",
   "nbconvert_exporter": "python",
   "pygments_lexer": "ipython3",
   "version": "3.13.1"
  }
 },
 "nbformat": 4,
 "nbformat_minor": 2
}
