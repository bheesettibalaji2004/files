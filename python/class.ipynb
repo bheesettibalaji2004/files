{
 "cells": [
  {
   "cell_type": "markdown",
   "metadata": {
    "notebookRunGroups": {
     "groupValue": "1"
    }
   },
   "source": [
    "# oops\n",
    "- In python everything is considered as object\n",
    "- class name must begin with \"capital\"\n",
    "- here **__init()__** method is known as constructor.It runs automatically when object is created.\n",
    "- \"self\" -> it is basically a key. It unlocks the class , so we can use properties and methods throughout\n",
    "\n"
   ]
  },
  {
   "cell_type": "code",
   "execution_count": 17,
   "metadata": {},
   "outputs": [
    {
     "name": "stdout",
     "output_type": "stream",
     "text": [
      "gender is male\n",
      "age is  21\n",
      "hello you are male and 21\n"
     ]
    }
   ],
   "source": [
    "class Human:\n",
    "    def __init__(self,gender,age):\n",
    "        self.a = gender\n",
    "        self.b = age\n",
    "        print(\"gender is\",gender)\n",
    "        print(\"age is \",age)\n",
    "    \n",
    "    def detail(self):\n",
    "        print(f\"hello you are {self.a} and {self.b}\")\n",
    "    \n",
    "person = Human(\"male\",21)\n",
    "person.detail()"
   ]
  },
  {
   "cell_type": "code",
   "execution_count": 18,
   "metadata": {},
   "outputs": [],
   "source": [
    "class Student:\n",
    "    salary = 20_000\n",
    "\n",
    "    def __init__(self,name,id,branch):\n",
    "        self.sname = name\n",
    "        self.sid = id\n",
    "        self.sbranch = branch.lower()\n",
    "        print(branch)\n",
    "        print(f\"{self.sbranch}\")\n",
    "\n",
    "    def msg(self):\n",
    "            for i in range(1,5):\n",
    "                print(f\"mail is sent to {self.sname} bearing roll number {self.sid} of branch {self.sbranch}\")\n",
    "    def hello(self):\n",
    "        if f\"{self.sbranch}\" == \"cse\" :\n",
    "            salary = int(self.salary * 1.5)\n",
    "            print(salary)\n",
    "        else:\n",
    "             salary = int(self.salary * 2)\n",
    "             print(salary)\n",
    "\n",
    "# name = input(\"Enter the student's name: \")\n",
    "# sid = input(\"Enter the student's ID: \")\n",
    "# branch = input(\"Enter the student's branch: \")\n",
    "\n",
    "# student = Student(name, sid, branch)\n",
    "# student.msg()\n",
    "# student.hello()\n",
    "\n",
    "              \n"
   ]
  },
  {
   "cell_type": "code",
   "execution_count": 19,
   "metadata": {},
   "outputs": [
    {
     "name": "stdout",
     "output_type": "stream",
     "text": [
      "balaji\n",
      "q\n",
      "CSE\n",
      "a\n",
      "b\n",
      "c\n",
      "d\n",
      "e\n",
      "f\n"
     ]
    }
   ],
   "source": [
    "class Student:\n",
    "    student_year = 2022\n",
    "    def __init__(self,name,roll,branch):\n",
    "        # self.sname = name\n",
    "        # self.sroll = roll\n",
    "        # self.sbranch = branch\n",
    "        # self.student_year\n",
    "        print(name)\n",
    "        print(roll)\n",
    "        print(branch)\n",
    "\n",
    "\n",
    "stu1 = Student(\"balaji\",\"q\",\"CSE\")\n",
    "stu2 = Student(\"a\",\"b\",\"c\")\n",
    "stu3 = Student(\"d\",\"e\",\"f\")\n",
    "\n",
    "# print(stu1.student_year)\n",
    "# print(stu1.student_year)\n",
    "# print(stu1.student_year)\n",
    "# print(stu1.student_year)\n",
    "\n"
   ]
  }
 ],
 "metadata": {
  "kernelspec": {
   "display_name": "Python 3",
   "language": "python",
   "name": "python3"
  },
  "language_info": {
   "codemirror_mode": {
    "name": "ipython",
    "version": 3
   },
   "file_extension": ".py",
   "mimetype": "text/x-python",
   "name": "python",
   "nbconvert_exporter": "python",
   "pygments_lexer": "ipython3",
   "version": "3.13.1"
  }
 },
 "nbformat": 4,
 "nbformat_minor": 2
}
