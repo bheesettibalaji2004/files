{
 "cells": [
  {
   "cell_type": "code",
   "execution_count": 30,
   "metadata": {},
   "outputs": [
    {
     "name": "stdout",
     "output_type": "stream",
     "text": [
      "arithmatic operatore\n",
      "30\n",
      "-10\n",
      "200\n",
      "0.5\n",
      "0\n",
      "100000000000000000000\n",
      "10\n",
      "--------------comparision opreators\n",
      "True\n",
      "True\n",
      "False\n",
      "False\n",
      "True\n",
      "False\n",
      "------------logical operator\n",
      "False\n",
      "True\n",
      "False\n",
      "-----------assignment operator\n",
      "20\n",
      "---------------identity operator\n",
      "1661317014208\n",
      "1661317013696\n",
      "False\n",
      "True\n",
      "============memnership operator\n",
      "True\n",
      "False\n",
      "-----------bitwise operator\n",
      "1\n",
      "20\n"
     ]
    }
   ],
   "source": [
    "a = 10\n",
    "b = 20\n",
    "print(\"arithmatic operatore\")\n",
    "print(a+b)\n",
    "print(a-b)\n",
    "print(a*b)\n",
    "print(a/b)\n",
    "print(a//b)\n",
    "print(a**b)\n",
    "print(a%b)\n",
    "print(\"--------------comparision opreators\")\n",
    "print(a<b)\n",
    "print(a<=b)\n",
    "print(a>b)\n",
    "print(a>=b)\n",
    "print(a!=b)\n",
    "print(a==b)\n",
    "print(\"------------logical operator\")\n",
    "print(a==10 and b==30)\n",
    "print(a==10 or b==30)\n",
    "print(not b==20)\n",
    "print(\"-----------assignment operator\")\n",
    "a +=10\n",
    "# -=\n",
    "# *=\n",
    "# **=\n",
    "print(a)\n",
    "print(\"---------------identity operator\")\n",
    "a = [10,20]\n",
    "b = [10,20]\n",
    "print(id(a))\n",
    "print(id(b))\n",
    "print(a is b)\n",
    "print(a is not b)\n",
    "print(\"============memnership operator\")\n",
    "a = \"balaji is good boy\"\n",
    "b = \"balaji\"\n",
    "c = \"balu\"\n",
    "print(b in a)\n",
    "print(c in a)\n",
    "print(\"-----------bitwise operator\")\n",
    "a = 5\n",
    "b = 2\n",
    "print(a>>b)\n",
    "print(a<<b)"
   ]
  },
  {
   "cell_type": "code",
   "execution_count": 31,
   "metadata": {},
   "outputs": [
    {
     "name": "stdout",
     "output_type": "stream",
     "text": [
      "h\n"
     ]
    }
   ],
   "source": [
    "a = 10\n",
    "b = 20\n",
    "if (a < 10) and (b>20):\n",
    "    print(\"hello\")\n",
    "elif(a>10):\n",
    "    print(\"hi\")\n",
    "else:\n",
    "    print(\"h\")"
   ]
  }
 ],
 "metadata": {
  "kernelspec": {
   "display_name": "Python 3",
   "language": "python",
   "name": "python3"
  },
  "language_info": {
   "codemirror_mode": {
    "name": "ipython",
    "version": 3
   },
   "file_extension": ".py",
   "mimetype": "text/x-python",
   "name": "python",
   "nbconvert_exporter": "python",
   "pygments_lexer": "ipython3",
   "version": "3.13.1"
  }
 },
 "nbformat": 4,
 "nbformat_minor": 2
}
